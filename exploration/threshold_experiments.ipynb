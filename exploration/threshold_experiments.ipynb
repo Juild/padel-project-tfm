{
 "cells": [
  {
   "cell_type": "code",
   "execution_count": 1,
   "metadata": {},
   "outputs": [],
   "source": [
    "#import opencv and numpy\n",
    "import cv2  \n",
    "import numpy as np\n",
    "\n",
    "#trackbar callback fucntion does nothing but required for trackbar\n",
    "def nothing(x):\n",
    "\tpass\n",
    "\n",
    "#create a seperate window named 'controls' for trackbar\n",
    "cv2.namedWindow('controls',2)\n",
    "cv2.resizeWindow(\"controls\", 550,10);\n",
    "\n",
    "#create trackbar in 'controls' window with name 'r''\n",
    "cv2.createTrackbar('r','controls',0,255,nothing)\n",
    "cv2.createTrackbar('g','controls',0,255,nothing)\n",
    "cv2.createTrackbar('b','controls',0,255,nothing)\n",
    "\n",
    "cv2.createTrackbar('R','controls',0,255,nothing)\n",
    "cv2.createTrackbar('G','controls',0,255,nothing)\n",
    "cv2.createTrackbar('B','controls',0,255,nothing)\n",
    "\n",
    "img = cv2.imread('../ball_detection_contour/preprocessing_frame_diff/frame11.png_frame_diff.png')\n",
    "while(1):\n",
    "\t#create a black image \n",
    "\t\n",
    "\t#returns current position/value of trackbar \n",
    "\tr = int(cv2.getTrackbarPos('r','controls'))\n",
    "\tg = int(cv2.getTrackbarPos('g','controls'))\n",
    "\tb = int(cv2.getTrackbarPos('b','controls'))\n",
    "\t\n",
    "\tR = int(cv2.getTrackbarPos('R','controls'))\n",
    "\tG =int(cv2.getTrackbarPos('G','controls'))\n",
    "\tB = int(cv2.getTrackbarPos('B','controls'))\n",
    "\n",
    "\n",
    "\tmask = cv2.inRange(img, (b, g, r), (B, G, R))\n",
    "\timage_masked = cv2.bitwise_and(img, img, mask=mask)\n",
    "\tcv2.imshow('img',image_masked)\n",
    "\t\n",
    "\t#waitfor the user to press escape and break the while loop \n",
    "\tk = cv2.waitKey(1) & 0xFF\n",
    "\tif k == 27:\n",
    "\t\tbreak\n",
    "\t\t\n",
    "#destroys all window\n",
    "cv2.destroyAllWindows()"
   ]
  }
 ],
 "metadata": {
  "kernelspec": {
   "display_name": "padel-project-LluFcVmE",
   "language": "python",
   "name": "python3"
  },
  "language_info": {
   "codemirror_mode": {
    "name": "ipython",
    "version": 3
   },
   "file_extension": ".py",
   "mimetype": "text/x-python",
   "name": "python",
   "nbconvert_exporter": "python",
   "pygments_lexer": "ipython3",
   "version": "3.10.6"
  },
  "orig_nbformat": 4
 },
 "nbformat": 4,
 "nbformat_minor": 2
}

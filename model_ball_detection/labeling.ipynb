{
 "cells": [
  {
   "cell_type": "code",
   "execution_count": null,
   "metadata": {},
   "outputs": [],
   "source": [
    "import sys\n",
    "sys.path.append('..')\n",
    "from utilities.preprocessing import split_image_into_chunks\n",
    "import string\n",
    "import numpy as np\n",
    "import cv2\n",
    "def eliminate_borders(image):\n",
    "    color = (0, 0, 0)\n",
    "    image = cv2.rectangle(image,(0,0),(180,1080), color, thickness=-1)\n",
    "    image = cv2.rectangle(image,(1920-180, 0),(1920,1080), color, thickness=-1)\n",
    "    image = cv2.rectangle(image,(0, 980),(1920,1080), color, thickness=-1)\n",
    "    pts1 = np.array([[0,0],[0,750],[650, 0]], np.int32)\n",
    "    pts2 = np.array([[1920,0],[1920,780],[1920 - 650, 0]], np.int32)\n",
    "\n",
    "    image = cv2.fillPoly(image,[pts1], color)\n",
    "    image = cv2.fillPoly(image,[pts2], color)\n",
    "    return image\n",
    "\n",
    "def get_image(dir):\n",
    "    img = cv2.imread(dir)\n",
    "    img = eliminate_borders(img)\n",
    "    name = str.split(dir, '/')[-1].replace('.jpg', '')\n",
    "    # cv2.imshow('image', img)\n",
    "    # cv2.waitKey(0)\n",
    "    # cv2.destroyAllWindows()\n",
    "    print(name)\n",
    "    subimages = split_image_into_chunks(img, visualize=False, padding_x=60, padding_y=60)\n",
    "    import os\n",
    "    os.mkdir(path=f'../labeling_images/{name}')\n",
    "    for idx, image in enumerate(subimages):\n",
    "        print(idx)\n",
    "        cv2.imwrite(f'../labeling_images/{name}/{name}_{idx}.jpg', image)\n",
    "for i in range(0, 2784):\n",
    "    get_image(f'../datasets/longest_point_frames/frame{i}.jpg')\n",
    " "
   ]
  },
  {
   "cell_type": "code",
   "execution_count": null,
   "metadata": {},
   "outputs": [],
   "source": [
    "import numpy as np\n",
    "l = ([1], [2,4])\n",
    "for i in l:\n",
    "    print('a')"
   ]
  },
  {
   "cell_type": "code",
   "execution_count": 1,
   "metadata": {},
   "outputs": [],
   "source": [
    "import cv2\n",
    "import sys\n",
    "sys.path.append('..')\n",
    "from utilities.preprocessing import split_image_into_chunks, show_image\n",
    "import torch\n",
    "import torchvision\n",
    "img = cv2.imread('../datasets/ground_truth_60x60/frame468_1338.jpg')\n",
    "img = torch.tensor(img, dtype=torch.uint8)\n",
    "img: torch.Tensor = img.permute(2, 0, 1)\n",
    "transform = torchvision.transforms.AugMix(severity=3, mixture_width=3)\n",
    "img: torch.Tensor = transform(img)\n",
    "img = img.permute(1, 2, 0)\n",
    "img = img.numpy()\n",
    "show_image(img)"
   ]
  },
  {
   "cell_type": "code",
   "execution_count": null,
   "metadata": {},
   "outputs": [],
   "source": []
  }
 ],
 "metadata": {
  "kernelspec": {
   "display_name": "padel-project-xuwQrqSQ",
   "language": "python",
   "name": "python3"
  },
  "language_info": {
   "codemirror_mode": {
    "name": "ipython",
    "version": 3
   },
   "file_extension": ".py",
   "mimetype": "text/x-python",
   "name": "python",
   "nbconvert_exporter": "python",
   "pygments_lexer": "ipython3",
   "version": "3.10.6"
  },
  "orig_nbformat": 4,
  "vscode": {
   "interpreter": {
    "hash": "a2b58450ae92b51be9224f61068d880255dec0695e738ff705212e509948e525"
   }
  }
 },
 "nbformat": 4,
 "nbformat_minor": 2
}

{
 "cells": [
  {
   "cell_type": "code",
   "execution_count": 1,
   "metadata": {},
   "outputs": [],
   "source": [
    "import numpy as np\n",
    "import cv2\n",
    "\n",
    "def cut_subimage(image, y, x):\n",
    "    height, width = image.shape[:2]\n",
    "    sub_height, sub_width = 60, 60\n",
    "\n",
    "    # Calculate the bounding box for the subimage\n",
    "    y_start = max(y - sub_height//2, 0)\n",
    "    y_end = min(y + sub_height//2, height)\n",
    "    x_start = max(x - sub_width//2, 0)\n",
    "    x_end = min(x + sub_width//2, width)\n",
    "\n",
    "    # Create a black subimage\n",
    "    subimage = np.zeros((sub_height, sub_width, image.shape[2]), dtype=image.dtype)\n",
    "\n",
    "    # Calculate the region of the original image to be copied\n",
    "    y_offset_start = max(sub_height//2 - y, 0)\n",
    "    y_offset_end = sub_height//2 + min(y_end - y, sub_height//2)\n",
    "    x_offset_start = max(sub_width//2 - x, 0)\n",
    "    x_offset_end = sub_width//2 + min(x_end - x, sub_width//2)\n",
    "\n",
    "    # Copy the valid region from the original image to the subimage\n",
    "    subimage[y_offset_start:y_offset_end, x_offset_start:x_offset_end] = image[y_start:y_end, x_start:x_end]\n",
    "\n",
    "    return subimage\n",
    "\n",
    "# Example usage:\n",
    "# Assuming you have an image 'img' and the coordinates 'y', 'x'\n",
    "subimage = subimage = cut_subimage(cv2.imread('../datasets/brusselas_open/frame0.jpg'), 1020, 1890)\n",
    "cv2.imshow('img',subimage)\n",
    "cv2.waitKey(0)\n",
    "cv2.destroyAllWindows()"
   ]
  }
 ],
 "metadata": {
  "kernelspec": {
   "display_name": "padel-project-LluFcVmE",
   "language": "python",
   "name": "python3"
  },
  "language_info": {
   "codemirror_mode": {
    "name": "ipython",
    "version": 3
   },
   "file_extension": ".py",
   "mimetype": "text/x-python",
   "name": "python",
   "nbconvert_exporter": "python",
   "pygments_lexer": "ipython3",
   "version": "3.10.6"
  },
  "orig_nbformat": 4
 },
 "nbformat": 4,
 "nbformat_minor": 2
}
